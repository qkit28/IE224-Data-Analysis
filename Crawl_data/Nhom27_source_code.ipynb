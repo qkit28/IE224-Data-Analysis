{
  "cells": [
    {
      "cell_type": "code",
      "execution_count": 33,
      "metadata": {
        "id": "TAx67mfkK9oF"
      },
      "outputs": [],
      "source": [
        "from bs4 import BeautifulSoup\n",
        "import pandas as pd\n",
        "import csv\n",
        "import re\n",
        "import time\n",
        "import urllib\n",
        "import requests"
      ]
    },
    {
      "cell_type": "code",
      "execution_count": 34,
      "metadata": {
        "id": "sROGKXa3K9oL"
      },
      "outputs": [],
      "source": [
        "base_url = 'https://www.classic-trader.com'"
      ]
    },
    {
      "cell_type": "code",
      "execution_count": 35,
      "metadata": {
        "id": "zkWiB5_VK9oM"
      },
      "outputs": [],
      "source": [
        "num_Of_Page = 14"
      ]
    },
    {
      "cell_type": "code",
      "execution_count": 36,
      "metadata": {
        "id": "h0b348YsK9oN"
      },
      "outputs": [],
      "source": [
        "base_page_link = 'https://www.classic-trader.com/uk/motorcycle/search?yearBeginOfProduction=1995&priceMin=2500&priceMax=500000&currencyCode=gbp&pagination%5Bpage%5D='\n",
        "products_pages = []\n",
        "for i in range(num_Of_Page):\n",
        "    url = f\"{base_page_link}{i + 1}\"\n",
        "    #print(url)\n",
        "    products_pages.append(url)"
      ]
    },
    {
      "cell_type": "code",
      "execution_count": 37,
      "metadata": {
        "id": "U_wRUXotK9oP"
      },
      "outputs": [],
      "source": [
        "#products_pages"
      ]
    },
    {
      "cell_type": "code",
      "execution_count": 38,
      "metadata": {
        "id": "9lB74LPWK9oP",
        "colab": {
          "base_uri": "https://localhost:8080/"
        },
        "outputId": "b9ee1e90-f1f9-42f9-8475-e65d389df703"
      },
      "outputs": [
        {
          "output_type": "stream",
          "name": "stdout",
          "text": [
            "Successfully !!!\n",
            "Successfully !!!\n",
            "Successfully !!!\n",
            "Successfully !!!\n",
            "Successfully !!!\n",
            "Successfully !!!\n",
            "Successfully !!!\n",
            "Successfully !!!\n",
            "Successfully !!!\n",
            "Successfully !!!\n",
            "Successfully !!!\n",
            "Successfully !!!\n",
            "Successfully !!!\n",
            "Successfully !!!\n"
          ]
        }
      ],
      "source": [
        "products_link_tails = []\n",
        "cnt = 0\n",
        "for url in products_pages:\n",
        "    base_page = requests.get(url)\n",
        "    soup = BeautifulSoup(base_page.text, \"html\")\n",
        "    #find link of each product and store in an arr\n",
        "    element = soup.find_all(\"div\", {\"data-link\": True})\n",
        "    for val in element:\n",
        "        cnt+=1\n",
        "        if cnt % 2 != 0:\n",
        "          link = val[\"data-link\"]\n",
        "          products_link_tails.append(link)\n",
        "    print(\"Successfully !!!\")"
      ]
    },
    {
      "cell_type": "code",
      "execution_count": 39,
      "metadata": {
        "id": "Y1JuqFkmK9oR"
      },
      "outputs": [],
      "source": [
        "#products_link_tails"
      ]
    },
    {
      "cell_type": "code",
      "execution_count": 40,
      "metadata": {
        "id": "nM2l5ZQYK9oS"
      },
      "outputs": [],
      "source": [
        "products_link = []\n",
        "for link in products_link_tails:\n",
        "    products_link.append(urllib.parse.urljoin(base_url,link))"
      ]
    },
    {
      "cell_type": "code",
      "execution_count": 41,
      "metadata": {
        "colab": {
          "base_uri": "https://localhost:8080/"
        },
        "id": "0Eu58fcHK9oT",
        "outputId": "44ac22a4-6844-4a94-d139-29eb96da1a38"
      },
      "outputs": [
        {
          "output_type": "execute_result",
          "data": {
            "text/plain": [
              "206"
            ]
          },
          "metadata": {},
          "execution_count": 41
        }
      ],
      "source": [
        "len(products_link)"
      ]
    },
    {
      "cell_type": "code",
      "execution_count": 42,
      "metadata": {
        "id": "Yf1pl8XyK9oU"
      },
      "outputs": [],
      "source": [
        "#get columns name\n",
        "url_sample = 'https://www.classic-trader.com/uk/motorcycle/listing/henderson/de-luxe-1300/1924/357180'\n",
        "\n",
        "page = requests.get(url_sample)\n",
        "soup = BeautifulSoup(page.text, 'html')\n",
        "col_txt = soup.find_all('dt',limit=27) #27 columns\n",
        "columns = []\n",
        "for val in col_txt:\n",
        "    columns.append(val.text)\n",
        "\n",
        "columns.append('Price')\n"
      ]
    },
    {
      "cell_type": "code",
      "source": [
        "def convert_string(s):\n",
        "\n",
        "    s = re.sub(r'\\([^)]*\\)', '', s)\n",
        "\n",
        "    s = s.rstrip()\n",
        "\n",
        "    s = s.replace(' ', '-')\n",
        "    return s\n"
      ],
      "metadata": {
        "id": "_fHECn-cqJ6l"
      },
      "execution_count": 43,
      "outputs": []
    },
    {
      "cell_type": "code",
      "source": [
        "columns = [convert_string(s) for s in columns]"
      ],
      "metadata": {
        "id": "o-p8zK48sAE0"
      },
      "execution_count": 44,
      "outputs": []
    },
    {
      "cell_type": "code",
      "execution_count": 45,
      "metadata": {
        "id": "D40FgWf3K9oV"
      },
      "outputs": [],
      "source": [
        "csv_filename = \"PKL_dataset.csv\"\n",
        "with open(csv_filename, mode = 'w', newline= '') as file:\n",
        "    writer = csv.writer(file)\n",
        "    writer.writerow(columns)\n",
        "    for url in products_link:\n",
        "        page = requests.get(url)\n",
        "        time.sleep(3)\n",
        "        soup = BeautifulSoup(page.text, 'html')\n",
        "        price = soup.find('span', class_ = \"text-2xl font-semibold lg:text-3xl\")\n",
        "        price = price.text[2:]\n",
        "        val_txt = soup.find_all('dd',limit=27)\n",
        "        row_data = []\n",
        "        for item in val_txt:\n",
        "            row_data.append(item.get_text(strip = True))\n",
        "        row_data.append(price)\n",
        "        writer.writerow(row_data)"
      ]
    }
  ],
  "metadata": {
    "kernelspec": {
      "display_name": "Python 3",
      "language": "python",
      "name": "python3"
    },
    "language_info": {
      "codemirror_mode": {
        "name": "ipython",
        "version": 3
      },
      "file_extension": ".py",
      "mimetype": "text/x-python",
      "name": "python",
      "nbconvert_exporter": "python",
      "pygments_lexer": "ipython3",
      "version": "3.9.13"
    },
    "colab": {
      "provenance": []
    }
  },
  "nbformat": 4,
  "nbformat_minor": 0
}