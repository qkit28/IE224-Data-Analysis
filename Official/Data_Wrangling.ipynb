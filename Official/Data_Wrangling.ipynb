{
 "cells": [
  {
   "cell_type": "markdown",
   "metadata": {},
   "source": [
    "# ĐỒ ÁN: DỰ ĐOÁN GIÁ XE PKL"
   ]
  },
  {
   "cell_type": "markdown",
   "metadata": {},
   "source": [
    "## I. Sắp xếp dữ liệu"
   ]
  },
  {
   "cell_type": "markdown",
   "metadata": {},
   "source": [
    "#### Import thư viện numpy và pandas"
   ]
  },
  {
   "cell_type": "code",
   "execution_count": 1,
   "metadata": {},
   "outputs": [],
   "source": [
    "import numpy as np\n",
    "import pandas as pd"
   ]
  },
  {
   "cell_type": "code",
   "execution_count": 2,
   "metadata": {},
   "outputs": [],
   "source": [
    "#Set giao diện\n",
    "pd.set_option('display.max_rows',None)\n",
    "pd.set_option('display.max_columns',None)\n",
    "pd.set_option('display.width',None)\n",
    "pd.set_option('display.max_colwidth',None)"
   ]
  },
  {
   "cell_type": "markdown",
   "metadata": {},
   "source": [
    "### 1. Định dạng dữ liệu (Data Formating)\n",
    "#### Thực hiện định dạng và chia nhỏ các cột chứa dữ liệu (nhiều biến) thành từng cột chỉ lưu trữ 1 loại dữ liệu (1 biến)"
   ]
  },
  {
   "cell_type": "markdown",
   "metadata": {},
   "source": [
    "##### Cột Engine-Type : chỉ lấy giá trị đầu tiên và giá trị cuối cùng tương ứng với cylinders và enginetype. Giá trị tương ứng bị khuyết sẽ điền \"Not provided\". Tất cả được thực hiện dựa trên hàm split_engine_to_new_df trong module enginetype_split.py"
   ]
  },
  {
   "cell_type": "code",
   "execution_count": 3,
   "metadata": {},
   "outputs": [],
   "source": [
    "#Thực hiện đọc dataset => Dataframe \n",
    "data_path = 'E:\\\\Courses\\\\ki5\\\\DA_IE224\\\\Project\\\\Dataset\\\\Nhom27_PKL_dataset.csv'\n",
    "df = pd.read_csv(data_path)"
   ]
  },
  {
   "cell_type": "code",
   "execution_count": 4,
   "metadata": {},
   "outputs": [],
   "source": [
    "#Import module enginetype_split\n",
    "import format_cols as fc"
   ]
  },
  {
   "cell_type": "code",
   "execution_count": 5,
   "metadata": {},
   "outputs": [],
   "source": [
    "#Thực hiện split giá trị của cột Engine-Type thành 1 dataframe 2 cột lưu vào biến two_cols\n",
    "two_cols = fc.split_engine_to_new_df(df['Engine-Type'])\n",
    "\n",
    "#Thêm 2 cột mới vào dataframe và xóa cột Engine-Type cũ đi.\n",
    "df = df.join(two_cols)\n",
    "df.drop('Engine-Type', axis=1, inplace= True)\n"
   ]
  },
  {
   "cell_type": "markdown",
   "metadata": {},
   "source": [
    "##### Biến power: Giá trị của cột power có dạng 29/40 trong đó, 29 là Wh = 40 horsepower => Chỉ lấy giá trị tương ứng với đơn vị horsepower. Nếu giá trị của có thông tin về Factory thì lấy giá trị ngoài Factory (VD 29/40 Factory(30/41 thì dùng 40))."
   ]
  },
  {
   "cell_type": "code",
   "execution_count": 6,
   "metadata": {},
   "outputs": [],
   "source": [
    "df['Power'] = df['Power'].str.extract('(\\d+)')"
   ]
  },
  {
   "cell_type": "markdown",
   "metadata": {},
   "source": [
    "##### Biến Cubic-capacity xử lí tương tự cột power"
   ]
  },
  {
   "cell_type": "code",
   "execution_count": 7,
   "metadata": {},
   "outputs": [],
   "source": [
    "df['Cubic-capacity'] = df['Cubic-capacity'].str.extract('(\\d+)')"
   ]
  },
  {
   "cell_type": "markdown",
   "metadata": {},
   "source": [
    "##### Biến Mileage: Đang ở 2 đơn vị mls (miles) và km (kilometer) => Chuyển về km (Nếu Not provided thì chuyển về None) bằng cách apply hà convert_mls_to_km trong module format_cols\n"
   ]
  },
  {
   "cell_type": "code",
   "execution_count": 8,
   "metadata": {},
   "outputs": [],
   "source": [
    "df['Mileage'] = df['Mileage'].apply(fc.convert_mls_to_km)"
   ]
  },
  {
   "cell_type": "code",
   "execution_count": 13,
   "metadata": {},
   "outputs": [],
   "source": [
    "#Thay đổi lại vị trí cột trong Dataframe:\n",
    "new_ordered_name = ['Make', 'Model', 'Type', 'Year-of-manufacture', 'Mileage',\n",
    "       'Engine_type', 'Power', 'Cubic-capacity', 'Cylinders','Cylinder_type', 'Cooling', 'Gears', 'Transmission',\n",
    "       'Curb-weight', 'Exterior-color', 'Price']\n",
    "df = df[new_ordered_name]"
   ]
  },
  {
   "cell_type": "markdown",
   "metadata": {},
   "source": [
    "### 2. Xử lí giá trị khuyết\n",
    "#### Các yêu cầu xử lí các biến:\n",
    "<ul>\n",
    "    <dl><strong>Engine_type</strong>: mode của xe cùng <strong>Make</strong></dl>\n",
    "    <dl><strong>Cylinders</strong>: mode của <strong>Cylinders</strong></dl>\n",
    "    <dl><strong>Cylinder_type</strong>: mode của xe cùng <strong>Make</strong></dl>\n",
    "    <dl><strong>Cooling</strong>: mode của <strong>Cooling</strong></dl>\n",
    "    <dl><strong>Gear</strong>: mode của xe cùng<strong>Make</strong></dl>\n",
    "    <dl><strong>Transmission</strong>: mode của <strong>Transmission</strong></dl>\n",
    "    <dl><strong>Cooling</strong>: mode của xe cùng <strong>Type</strong></dl>\n",
    "</ul>"
   ]
  },
  {
   "cell_type": "code",
   "execution_count": 25,
   "metadata": {},
   "outputs": [
    {
     "data": {
      "text/plain": [
       "Make                   0\n",
       "Model                  0\n",
       "Type                   0\n",
       "Year-of-manufacture    0\n",
       "Mileage                0\n",
       "Engine_type            0\n",
       "Power                  0\n",
       "Cubic-capacity         0\n",
       "Cylinders              0\n",
       "Cylinder_type          0\n",
       "Cooling                0\n",
       "Gears                  0\n",
       "Transmission           0\n",
       "Curb-weight            0\n",
       "Exterior-color         0\n",
       "Price                  0\n",
       "dtype: int64"
      ]
     },
     "execution_count": 25,
     "metadata": {},
     "output_type": "execute_result"
    }
   ],
   "source": [
    "#Kiểm tra các giá trị = \"Not provided\"\n",
    "not_provided_counts = df.apply(lambda col: (col == 'Not provided').sum())\n",
    "not_provided_counts"
   ]
  },
  {
   "cell_type": "markdown",
   "metadata": {},
   "source": [
    "##### Thay thế các giá trị \"Not provided\" về NaN:"
   ]
  },
  {
   "cell_type": "code",
   "execution_count": null,
   "metadata": {},
   "outputs": [],
   "source": [
    "# Thay thế giá trị \"Not provided\" bằng NaN\n",
    "df.replace('Not provided', np.nan, inplace=True)\n"
   ]
  }
 ],
 "metadata": {
  "kernelspec": {
   "display_name": "Python 3",
   "language": "python",
   "name": "python3"
  },
  "language_info": {
   "codemirror_mode": {
    "name": "ipython",
    "version": 3
   },
   "file_extension": ".py",
   "mimetype": "text/x-python",
   "name": "python",
   "nbconvert_exporter": "python",
   "pygments_lexer": "ipython3",
   "version": "3.9.13"
  }
 },
 "nbformat": 4,
 "nbformat_minor": 2
}
